{
 "cells": [
  {
   "cell_type": "code",
   "execution_count": null,
   "metadata": {
    "vscode": {
     "languageId": "plaintext"
    }
   },
   "outputs": [],
   "source": [
    "import torch\n",
    "import torch.nn as nn\n",
    "import torch.optim as optim\n",
    "from torchvision.utils import save_image\n",
    "\n",
    "# GAN 的生成器\n",
    "class Generator(nn.Module):\n",
    "    def __init__(self, latent_dim=128):\n",
    "        super(Generator, self).__init__()\n",
    "        self.model = nn.Sequential(\n",
    "            nn.Linear(latent_dim, 256 * 4 * 4),\n",
    "            nn.ReLU(),\n",
    "            nn.Unflatten(1, (256, 4, 4)),\n",
    "            nn.ConvTranspose2d(256, 128, kernel_size=4, stride=2, padding=1),\n",
    "            nn.ReLU(),\n",
    "            nn.ConvTranspose2d(128, 64, kernel_size=4, stride=2, padding=1),\n",
    "            nn.ReLU(),\n",
    "            nn.ConvTranspose2d(64, 3, kernel_size=4, stride=2, padding=1),\n",
    "            nn.Tanh()\n",
    "        )\n",
    "\n",
    "    def forward(self, z):\n",
    "        return self.model(z)\n",
    "\n",
    "# GAN 的判别器\n",
    "class Discriminator(nn.Module):\n",
    "    def __init__(self):\n",
    "        super(Discriminator, self).__init__()\n",
    "        self.model = nn.Sequential(\n",
    "            nn.Conv2d(3, 64, kernel_size=4, stride=2, padding=1),\n",
    "            nn.LeakyReLU(0.2),\n",
    "            nn.Conv2d(64, 128, kernel_size=4, stride=2, padding=1),\n",
    "            nn.LeakyReLU(0.2),\n",
    "            nn.Conv2d(128, 256, kernel_size=4, stride=2, padding=1),\n",
    "            nn.LeakyReLU(0.2),\n",
    "            nn.Flatten(),\n",
    "            nn.Linear(256 * 4 * 4, 1),\n",
    "            nn.Sigmoid()\n",
    "        )\n",
    "\n",
    "    def forward(self, x):\n",
    "        return self.model(x)\n",
    "\n",
    "# 初始化模型\n",
    "latent_dim = 128\n",
    "generator = Generator(latent_dim)\n",
    "discriminator = Discriminator()\n",
    "\n",
    "optimizer_G = optim.Adam(generator.parameters(), lr=0.0002, betas=(0.5, 0.999))\n",
    "optimizer_D = optim.Adam(discriminator.parameters(), lr=0.0002, betas=(0.5, 0.999))\n",
    "criterion = nn.BCELoss()\n",
    "\n",
    "# 训练 GAN\n",
    "epochs = 10\n",
    "for epoch in range(epochs):\n",
    "    for real_imgs, _ in train_loader:\n",
    "        # 训练判别器\n",
    "        valid = torch.ones(real_imgs.size(0), 1)\n",
    "        fake = torch.zeros(real_imgs.size(0), 1)\n",
    "\n",
    "        optimizer_D.zero_grad()\n",
    "        real_loss = criterion(discriminator(real_imgs), valid)\n",
    "        z = torch.randn(real_imgs.size(0), latent_dim)\n",
    "        fake_imgs = generator(z)\n",
    "        fake_loss = criterion(discriminator(fake_imgs.detach()), fake)\n",
    "        d_loss = real_loss + fake_loss\n",
    "        d_loss.backward()\n",
    "        optimizer_D.step()\n",
    "\n",
    "        # 训练生成器\n",
    "        optimizer_G.zero_grad()\n",
    "        g_loss = criterion(discriminator(fake_imgs), valid)\n",
    "        g_loss.backward()\n",
    "        optimizer_G.step()\n",
    "\n",
    "    print(f\"Epoch {epoch+1}, D Loss: {d_loss.item()}, G Loss: {g_loss.item()}\")\n",
    "\n",
    "# 保存生成图像\n",
    "with torch.no_grad():\n",
    "    z = torch.randn(64, latent_dim)\n",
    "    samples = generator(z).cpu()\n",
    "    save_image(samples, 'gan_samples.png', nrow=8)\n"
   ]
  },
  {
   "cell_type": "code",
   "execution_count": null,
   "metadata": {
    "vscode": {
     "languageId": "plaintext"
    }
   },
   "outputs": [],
   "source": [
    "# 在上述 GAN 的 Generator 和 Discriminator 模型中：\n",
    "\n",
    "# 将类别标签（label）转换为嵌入向量，拼接到输入噪声向量（z）或图像中。\n",
    "# 在判别器中同样处理标签，确保输入图像和标签共同参与判别。\n",
    "# 在 Generator 的输入中添加：\n",
    "\n",
    "\n",
    "self.label_embedding = nn.Embedding(10, latent_dim)\n",
    "def forward(self, z, labels):\n",
    "    label_embeds = self.label_embedding(labels)\n",
    "    input = torch.cat([z, label_embeds], dim=1)\n",
    "    return self.model(input)"
   ]
  }
 ],
 "metadata": {
  "language_info": {
   "name": "python"
  }
 },
 "nbformat": 4,
 "nbformat_minor": 2
}
